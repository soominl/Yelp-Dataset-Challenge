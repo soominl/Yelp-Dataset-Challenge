{
 "cells": [
  {
   "cell_type": "markdown",
   "metadata": {},
   "source": [
    "# When people write Yelp reviews for restaurants, which aspects do they value more? \n",
    "Food, ambience, parking, service or wait time? How do the reviewers weigh these categories, \n",
    "and how are they reflected on the overall star ratings? My guess to this question is that food quality \n",
    "would be the most important thing when making an evaluation for a restaurant. Even if other aspects \n",
    "such as service and parking are not that great, as long as they are not horrible that it takes \n",
    "half an hour to find a parking spot or place an order, it should not affect the overall ratings. \n",
    "I am also curious to find out the line between what's acceptable or not in those categories. \n",
    "To what extent can people tolerate? \n"
   ]
  },
  {
   "cell_type": "markdown",
   "metadata": {},
   "source": [
    "## Background\n",
    "It is obvious that star ratings are the ones that influence first impression the most on Yelp; an extra half-star rating causes restaurants to sell out 19 percentage points (49%) more frequently (Anderson). This shows how important they are when shaping a restaurants' impressions, and because they can influence the newcomers to the restaurant so much, they need to be presented more accurately. \n",
    "\n",
    "But since the yelp reviews are rounded up by half stars, a restaurant with score of 3.45 and another with a score of 3.52 would be rounded to 3.0 and 3.5 stars, respectively. Though their raw scores differ by .07, their official ratings differ by 0.5 and their star colors would also be different – visually affecting the users when they judge a restaurant solely on the star rating.\n",
    "\n",
    "Data from Yelp Dataset Challenge will be used (https://www.yelp.com/dataset_challenge).\n"
   ]
  },
  {
   "cell_type": "markdown",
   "metadata": {},
   "source": [
    "## Data Analysis\n",
    "\n",
    "Initial analysis: Separate reviews by using individual words as tokens. Get simple frequency of each word after stemming and removing stop words to cluster similar words with different forms. \n",
    "\n",
    "There are five different datasets provided by Yelp as json files: business, checkin, review, tip, and user. I will be using \"review\" first to see the initial results. \n"
   ]
  },
  {
   "cell_type": "markdown",
   "metadata": {},
   "source": [
    "### Loading Data from Yelp"
   ]
  },
  {
   "cell_type": "code",
   "execution_count": 1,
   "metadata": {
    "collapsed": false
   },
   "outputs": [
    {
     "name": "stdout",
     "output_type": "stream",
     "text": [
      "processing reviews... \n",
      "\n",
      "done - loaded exp tweets\n"
     ]
    }
   ],
   "source": [
    "import json\n",
    "import os\n",
    "import numpy as np\n",
    "import random\n",
    "import nltk\n",
    "import sys\n",
    "\n",
    "# Weird unicode error processing some of the tweets\n",
    "import re\n",
    "import sys\n",
    "\n",
    "from sklearn.cross_validation import train_test_split\n",
    "from sklearn.feature_extraction.text import TfidfVectorizer\n",
    "from nltk.stem.snowball import SnowballStemmer\n",
    "from nltk.corpus import stopwords\n",
    "from nltk.tokenize import word_tokenize\n",
    "\n",
    "dir = os.path.abspath('__file__' + '/../')\n",
    "\n",
    "file_name = 'yelp_academic_dataset_review.json'\n",
    "full_name = os.path.join(dir, file_name)\n",
    "\n",
    "tokens = []\n",
    "test_string = \"\"\n",
    "\n",
    "def load_exp_reviews(fname):\n",
    "    # to keep track of # of loaded reviews\n",
    "    count = 0\n",
    "    string = \"\"\n",
    "\n",
    "    print(\"processing reviews...\", '\\n')\n",
    "    \n",
    "    # Identify stopwords to remove\n",
    "    stop_words = set(stopwords.words('english'))\n",
    "    \n",
    "    # create stemmer to stem words\n",
    "    stemmer=SnowballStemmer(\"english\")\n",
    "        \n",
    "    with open(fname,'r', encoding='utf-8') as f:\n",
    "        for row in f:\n",
    "            \n",
    "            # only load first 300 for now\n",
    "            if(count > 300):\n",
    "                break\n",
    "            \n",
    "            review = json.loads(row)\n",
    "            count += 1\n",
    "            \n",
    "            review_text = review[\"text\"]\n",
    "            review_text = review_text.lower()\n",
    "            \n",
    "            review_text = re.sub(r\"[\\.]{3,}\", ' ', review_text)\n",
    "            review_text = re.sub(r\"[()]\", '', review_text)\n",
    "            \n",
    "            # remove stop words\n",
    "            review_text = ' '.join([word for word in review_text.split() if word not in stop_words])\n",
    "            \n",
    "            # stem words\n",
    "            review_words=str.split(str(review_text),' ')\n",
    "\n",
    "            for word in review_words:\n",
    "                stemmed = stemmer.stem(word)\n",
    "                if (len(stemmed)>0):\n",
    "                    tokens.append(stemmed)\n",
    "                    string += stemmed\n",
    "                    string += \" \"\n",
    "                    \n",
    "    #print(tokens, \"\\n\")\n",
    "    #print(string)\n",
    "    print(\"done - loaded exp tweets\")\n",
    "    \n",
    "    return tokens, string\n",
    "    \n",
    "word_list, word_string = load_exp_reviews(full_name)\n",
    "\n"
   ]
  },
  {
   "cell_type": "markdown",
   "metadata": {},
   "source": [
    "### Generating word cloud"
   ]
  },
  {
   "cell_type": "code",
   "execution_count": 9,
   "metadata": {
    "collapsed": false
   },
   "outputs": [],
   "source": [
    "%matplotlib inline\n",
    "\n",
    "import matplotlib.pyplot as plt\n",
    "from wordcloud import WordCloud\n",
    "from scipy.misc import imread"
   ]
  },
  {
   "cell_type": "code",
   "execution_count": 11,
   "metadata": {
    "collapsed": false,
    "scrolled": true
   },
   "outputs": [
    {
     "data": {
      "image/png": "[encoded data removed]",
      "text/plain": [
       "<matplotlib.figure.Figure at 0x10d81f320>"
      ]
     },
     "metadata": {},
     "output_type": "display_data"
    }
   ],
   "source": [
    "def grey_color_func(word, font_size, position, orientation, random_state=None, **kwargs):\n",
    "    return \"hsl(0, 0%%, %d%%)\" % random.randint(0, 100)\n",
    "\n",
    "dir = os.path.abspath('__file__' + '/../')\n",
    "\n",
    "font_file_name = 'DroidSansMono.ttf'\n",
    "font_full_name = os.path.join(dir, font_file_name)\n",
    "\n",
    "# read the mask image\n",
    "# taken from\n",
    "# https://image.freepik.com/free-icon/apple-black-silhouette-with-a-leaf_318-62258.png\n",
    "\n",
    "image_file_name = 'apple.jpg'\n",
    "mask = imread(os.path.join(dir, image_file_name))\n",
    "\n",
    "#wordcloud = WordCloud().generate(tokens)\n",
    "\n",
    "wordcloud = WordCloud(mask=mask, font_path=font_full_name, margin = 10, background_color='white', random_state = 1).generate(word_string)\n",
    "# store to jpg file\n",
    "wordcloud.to_file(\"apple_cloud.png\")\n",
    "\n",
    "# Open a plot of the generated image.\n",
    "plt.imshow(wordcloud.recolor(color_func=grey_color_func, random_state=3))\n",
    "wordcloud.to_file(\"apple_cloud_bw.png\")\n",
    "plt.axis(\"off\")\n",
    "plt.show()"
   ]
  },
  {
   "cell_type": "markdown",
   "metadata": {},
   "source": [
    "### Counting frequency of words\n",
    "We will use scikit learn's CountVectorizer for n-gram extraction"
   ]
  },
  {
   "cell_type": "code",
   "execution_count": 2,
   "metadata": {
    "collapsed": false
   },
   "outputs": [],
   "source": [
    "from collections import Counter\n",
    "from nltk import word_tokenize\n",
    "from nltk.probability import FreqDist\n",
    "from sklearn.feature_extraction.text import CountVectorizer\n",
    "\n",
    "def calc_freq(words):\n",
    "    \n",
    "    freq_dist = nltk.FreqDist(words)\n",
    "    word_features = freq_dist.keys()\n",
    "\n",
    "    #print (freq_dist.values())\n",
    "    \n",
    "    vocab = sorted(freq_dist)\n",
    "    \n",
    "calc_freq(word_list)"
   ]
  },
  {
   "cell_type": "markdown",
   "metadata": {},
   "source": [
    "## References\n",
    "1. M. Anderson and J. Magruder. “Learning from the Crowd.” The Economic Journal. 2011. \n",
    "2. wordcloud by A. Muller https://github.com/amueller/word_cloud"
   ]
  },
  {
   "cell_type": "code",
   "execution_count": null,
   "metadata": {
    "collapsed": true
   },
   "outputs": [],
   "source": []
  }
 ],
 "metadata": {
  "kernelspec": {
   "display_name": "Python 3",
   "language": "python",
   "name": "python3"
  },
  "language_info": {
   "codemirror_mode": {
    "name": "ipython",
    "version": 3
   },
   "file_extension": ".py",
   "mimetype": "text/x-python",
   "name": "python",
   "nbconvert_exporter": "python",
   "pygments_lexer": "ipython3",
   "version": "3.5.1"
  }
 },
 "nbformat": 4,
 "nbformat_minor": 0
}
